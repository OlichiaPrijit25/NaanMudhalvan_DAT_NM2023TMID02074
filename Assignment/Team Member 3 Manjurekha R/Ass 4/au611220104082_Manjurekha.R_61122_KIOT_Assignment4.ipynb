{
  "nbformat": 4,
  "nbformat_minor": 0,
  "metadata": {
    "colab": {
      "provenance": []
    },
    "kernelspec": {
      "name": "python3",
      "display_name": "Python 3"
    },
    "language_info": {
      "name": "python"
    }
  },
  "cells": [
    {
      "cell_type": "markdown",
      "source": [],
      "metadata": {
        "id": "EKhaBiBoQhxo"
      }
    },
    {
      "cell_type": "markdown",
      "source": [
        "**TASK 1**"
      ],
      "metadata": {
        "id": "K8JstNx7-M4V"
      }
    },
    {
      "cell_type": "code",
      "execution_count": 4,
      "metadata": {
        "colab": {
          "base_uri": "https://localhost:8080/"
        },
        "id": "dvqJpIIE1Rr8",
        "outputId": "aaa3c4c9-20c4-4b74-e419-7d264768559d"
      },
      "outputs": [
        {
          "output_type": "stream",
          "name": "stdout",
          "text": [
            "[1, 2, 13, 4, 25, 6, 3, 5, 9, 12, 45, 11]\n"
          ]
        }
      ],
      "source": [
        "list1=[1,2,13,4,25,6]\n",
        "list2=[3,5,9,12,45,11]\n",
        "variable_list=list1+list2;\n",
        "print(variable_list);\n"
      ]
    },
    {
      "cell_type": "markdown",
      "source": [
        "**TASK 2**"
      ],
      "metadata": {
        "id": "Rf0BHoy7-Spt"
      }
    },
    {
      "cell_type": "code",
      "source": [
        "num=[10,20,67,40,55,60,79,80,97,100]\n",
        "res=[]\n",
        "i=0\n",
        "for n in num:\n",
        "  if n%2==0:\n",
        "    res.append(n);\n",
        "print (res)\n",
        "\n"
      ],
      "metadata": {
        "colab": {
          "base_uri": "https://localhost:8080/"
        },
        "id": "3Q3Kuxjo1-zk",
        "outputId": "c880193b-7b4d-45fe-bf06-d63109d26305"
      },
      "execution_count": 7,
      "outputs": [
        {
          "output_type": "stream",
          "name": "stdout",
          "text": [
            "[10, 20, 40, 60, 80, 100]\n"
          ]
        }
      ]
    },
    {
      "cell_type": "markdown",
      "source": [
        "**TASK 3**"
      ],
      "metadata": {
        "id": "59TO_zeM-as8"
      }
    },
    {
      "cell_type": "code",
      "source": [
        "list =[0,1,2,3,4,5,6,7,8,9]\n",
        "res=[]\n",
        "for n in list:\n",
        "  if n%2!=0:\n",
        "    res.append(n);\n",
        "print(res)"
      ],
      "metadata": {
        "colab": {
          "base_uri": "https://localhost:8080/"
        },
        "id": "mhEOB06I4QcU",
        "outputId": "f15da3b7-6383-44af-a1dc-de95ce1a3132"
      },
      "execution_count": 9,
      "outputs": [
        {
          "output_type": "stream",
          "name": "stdout",
          "text": [
            "[1, 3, 5, 7, 9]\n"
          ]
        }
      ]
    },
    {
      "cell_type": "markdown",
      "source": [
        "**TASK 4**"
      ],
      "metadata": {
        "id": "aC35i9Fh-fvX"
      }
    },
    {
      "cell_type": "code",
      "source": [
        "keys=['key 1','key 2','key 3']\n",
        "values=[[1,2], [3,4], [5,6]]\n",
        "dict={keys[i] : values[i] for i in range(len(keys))}\n",
        "\n",
        "print(dict)"
      ],
      "metadata": {
        "colab": {
          "base_uri": "https://localhost:8080/"
        },
        "id": "UhTTgzR049gC",
        "outputId": "31ba8b04-43d0-4010-8494-dcd20a5369c3"
      },
      "execution_count": 10,
      "outputs": [
        {
          "output_type": "stream",
          "name": "stdout",
          "text": [
            "{'key 1': [1, 2], 'key 2': [3, 4], 'key 3': [5, 6]}\n"
          ]
        }
      ]
    },
    {
      "cell_type": "markdown",
      "source": [
        "**TASK 5**"
      ],
      "metadata": {
        "id": "gfhKsfXT-j7M"
      }
    },
    {
      "cell_type": "code",
      "source": [
        "def list(numbers):\n",
        "    total = sum(numbers)\n",
        "    return total\n",
        "\n",
        "list_1 = [11,21,31,41,51]\n",
        "total = list(list_1)\n",
        "print(total)"
      ],
      "metadata": {
        "colab": {
          "base_uri": "https://localhost:8080/"
        },
        "id": "Nbcqvz459fjW",
        "outputId": "16b1f0b0-18fa-4018-eac2-cafa66acb5fd"
      },
      "execution_count": 12,
      "outputs": [
        {
          "output_type": "stream",
          "name": "stdout",
          "text": [
            "155\n"
          ]
        }
      ]
    },
    {
      "cell_type": "code",
      "source": [],
      "metadata": {
        "id": "CMbYtbho4G0e"
      },
      "execution_count": null,
      "outputs": []
    },
    {
      "cell_type": "code",
      "source": [],
      "metadata": {
        "id": "xoCG7WLe-uo8"
      },
      "execution_count": null,
      "outputs": []
    },
    {
      "cell_type": "code",
      "source": [],
      "metadata": {
        "id": "D2AswjWG8p1W"
      },
      "execution_count": null,
      "outputs": []
    }
  ]
}