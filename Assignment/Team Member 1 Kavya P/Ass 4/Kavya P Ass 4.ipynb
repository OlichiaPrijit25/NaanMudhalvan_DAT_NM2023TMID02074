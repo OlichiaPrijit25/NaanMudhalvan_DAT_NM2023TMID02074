{
  "nbformat": 4,
  "nbformat_minor": 0,
  "metadata": {
    "colab": {
      "provenance": []
    },
    "kernelspec": {
      "name": "python3",
      "display_name": "Python 3"
    },
    "language_info": {
      "name": "python"
    }
  },
  "cells": [
    {
      "cell_type": "markdown",
      "source": [
        "**TASK 1**"
      ],
      "metadata": {
        "id": "K8JstNx7-M4V"
      }
    },
    {
      "cell_type": "code",
      "execution_count": 9,
      "metadata": {
        "colab": {
          "base_uri": "https://localhost:8080/"
        },
        "id": "dvqJpIIE1Rr8",
        "outputId": "9a129af5-ac9b-453b-ac69-8d6cface4a9d"
      },
      "outputs": [
        {
          "output_type": "stream",
          "name": "stdout",
          "text": [
            "[1, 2, 3, 4, 5, 78, 6, 7, 8, 9, 10, 11]\n"
          ]
        }
      ],
      "source": [
        "list1=[1,2,3,4,5,78]\n",
        "list2=[6,7,8,9,10,11]\n",
        "variable_list=list1+list2;\n",
        "print(variable_list);\n"
      ]
    },
    {
      "cell_type": "markdown",
      "source": [
        "**TASK 2**"
      ],
      "metadata": {
        "id": "Rf0BHoy7-Spt"
      }
    },
    {
      "cell_type": "code",
      "source": [
        "number=[11,22,33,44,55,66,77,88,99,100]\n",
        "res=[]\n",
        "i=0\n",
        "for n in number:\n",
        "  if n%2==0:\n",
        "    res.append(n);\n",
        "print (res)\n",
        "\n"
      ],
      "metadata": {
        "colab": {
          "base_uri": "https://localhost:8080/"
        },
        "id": "3Q3Kuxjo1-zk",
        "outputId": "d3c5cf2f-69ee-4945-8022-07cfbcc0dd23"
      },
      "execution_count": 10,
      "outputs": [
        {
          "output_type": "stream",
          "name": "stdout",
          "text": [
            "[22, 44, 66, 88, 100]\n"
          ]
        }
      ]
    },
    {
      "cell_type": "markdown",
      "source": [
        "**TASK 3**"
      ],
      "metadata": {
        "id": "59TO_zeM-as8"
      }
    },
    {
      "cell_type": "code",
      "source": [
        "list =[0,61,32,13,47,52,68,71,85,99]\n",
        "res=[]\n",
        "for n in list:\n",
        "  if n%2!=0:\n",
        "    res.append(n);\n",
        "print(res)"
      ],
      "metadata": {
        "colab": {
          "base_uri": "https://localhost:8080/"
        },
        "id": "mhEOB06I4QcU",
        "outputId": "d98ec37c-ed67-428c-f6a2-55be97d704fb"
      },
      "execution_count": 14,
      "outputs": [
        {
          "output_type": "stream",
          "name": "stdout",
          "text": [
            "[61, 13, 47, 71, 85, 99]\n"
          ]
        }
      ]
    },
    {
      "cell_type": "markdown",
      "source": [
        "**TASK 4**"
      ],
      "metadata": {
        "id": "aC35i9Fh-fvX"
      }
    },
    {
      "cell_type": "code",
      "source": [
        "keys=['key 1','key 2','key 3']\n",
        "values=[[1,2], [3,4], [5,6]]\n",
        "ans={keys[i] : values[i] for i in range(len(keys))}\n",
        "\n",
        "print(ans)"
      ],
      "metadata": {
        "colab": {
          "base_uri": "https://localhost:8080/"
        },
        "id": "UhTTgzR049gC",
        "outputId": "9fa24c8e-4494-4781-fc29-f68b7b3734f9"
      },
      "execution_count": 15,
      "outputs": [
        {
          "output_type": "stream",
          "name": "stdout",
          "text": [
            "{'key 1': [1, 2], 'key 2': [3, 4], 'key 3': [5, 6]}\n"
          ]
        }
      ]
    },
    {
      "cell_type": "markdown",
      "source": [
        "**TASK 5**"
      ],
      "metadata": {
        "id": "gfhKsfXT-j7M"
      }
    },
    {
      "cell_type": "code",
      "source": [
        "def list(numbers):\n",
        "    total = sum(numbers)\n",
        "    return total\n",
        "listQ = [2, 26, 31, 10, 47]\n",
        "tot = list(listQ)\n",
        "print(tot)"
      ],
      "metadata": {
        "colab": {
          "base_uri": "https://localhost:8080/"
        },
        "id": "Nbcqvz459fjW",
        "outputId": "0b1b26ba-e850-46ce-b116-f96614eb488c"
      },
      "execution_count": 17,
      "outputs": [
        {
          "output_type": "stream",
          "name": "stdout",
          "text": [
            "116\n"
          ]
        }
      ]
    },
    {
      "cell_type": "code",
      "source": [],
      "metadata": {
        "id": "CMbYtbho4G0e"
      },
      "execution_count": null,
      "outputs": []
    },
    {
      "cell_type": "code",
      "source": [],
      "metadata": {
        "id": "xoCG7WLe-uo8"
      },
      "execution_count": null,
      "outputs": []
    },
    {
      "cell_type": "code",
      "source": [],
      "metadata": {
        "id": "D2AswjWG8p1W"
      },
      "execution_count": null,
      "outputs": []
    }
  ]
}